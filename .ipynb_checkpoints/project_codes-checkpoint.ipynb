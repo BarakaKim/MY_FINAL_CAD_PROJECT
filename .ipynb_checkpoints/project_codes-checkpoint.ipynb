{
 "cells": [
  {
   "cell_type": "markdown",
   "id": "6fd214e9",
   "metadata": {},
   "source": [
    "# DEEP-LEARNING CNN-BASED CAD RISK STRATIFICATION VIA RETINAL FUNDUS IMAGES—EARLY HEART ATTACK DETECTION IN A BLINK OF AN EYE"
   ]
  },
  {
   "cell_type": "markdown",
   "id": "926b24bf",
   "metadata": {},
   "source": [
    "**PROJECT SUMMARY**"
   ]
  },
  {
   "cell_type": "markdown",
   "id": "ba85a68c",
   "metadata": {},
   "source": [
    "**DATA EXPLORATION**"
   ]
  },
  {
   "cell_type": "code",
   "execution_count": null,
   "id": "7a9875bb",
   "metadata": {},
   "outputs": [],
   "source": [
    "# Import necessary packages\n",
    "import pandas as pd\n",
    "import numpy as np\n",
    "import matplotlib.pyplot as plt\n",
    "%matplotlib inline \n",
    "import os\n",
    "import PIL \n",
    "from PIL import Image"
   ]
  },
  {
   "cell_type": "markdown",
   "id": "19a7298d",
   "metadata": {},
   "source": [
    "**Checking Class Imbalance Problem**"
   ]
  },
  {
   "cell_type": "markdown",
   "id": "c951058b",
   "metadata": {},
   "source": [
    "**Image Preprocessing**"
   ]
  },
  {
   "cell_type": "markdown",
   "id": "a7b5f24d",
   "metadata": {},
   "source": [
    "**MODULE EVALUATION METRICS**"
   ]
  },
  {
   "cell_type": "code",
   "execution_count": null,
   "id": "40c8a4d8",
   "metadata": {},
   "outputs": [],
   "source": []
  }
 ],
 "metadata": {
  "kernelspec": {
   "display_name": "Python 3 (ipykernel)",
   "language": "python",
   "name": "python3"
  },
  "language_info": {
   "codemirror_mode": {
    "name": "ipython",
    "version": 3
   },
   "file_extension": ".py",
   "mimetype": "text/x-python",
   "name": "python",
   "nbconvert_exporter": "python",
   "pygments_lexer": "ipython3",
   "version": "3.9.12"
  }
 },
 "nbformat": 4,
 "nbformat_minor": 5
}
