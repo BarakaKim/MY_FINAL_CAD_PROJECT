{
 "cells": [
  {
   "cell_type": "markdown",
   "id": "a91b5d77",
   "metadata": {},
   "source": [
    "# DEEP-LEARNING CNN-BASED CAD RISK STRATIFICATION VIA RETINAL FUNDUS IMAGES—EARLY HEART ATTACK DETECTION IN A BLINK OF AN EYE"
   ]
  },
  {
   "cell_type": "markdown",
   "id": "9adaa6a3",
   "metadata": {},
   "source": [
    "**PROJECT SUMMARY**"
   ]
  },
  {
   "cell_type": "markdown",
   "id": "7fcc31e6",
   "metadata": {},
   "source": [
    "**DATA EXPLORATION**"
   ]
  },
  {
   "cell_type": "code",
   "execution_count": null,
   "id": "ab3e674c",
   "metadata": {},
   "outputs": [],
   "source": [
    "# Import necessary packages\n",
    "import pandas as pd\n",
    "import numpy as np\n",
    "import matplotlib.pyplot as plt\n",
    "%matplotlib inline\n",
    "import os\n",
    "import PIL \n",
    "from PIL import Image"
   ]
  },
  {
   "cell_type": "markdown",
   "id": "73205026",
   "metadata": {},
   "source": [
    "**Checking Class Imbalance Problem**"
   ]
  },
  {
   "cell_type": "markdown",
   "id": "f38df8dd",
   "metadata": {},
   "source": [
    "**Image Preprocessing**"
   ]
  },
  {
   "cell_type": "markdown",
   "id": "67251277",
   "metadata": {},
   "source": [
    "**MODULE EVALUATION METRICS**"
   ]
  },
  {
   "cell_type": "code",
   "execution_count": null,
   "id": "6eb3ae45",
   "metadata": {},
   "outputs": [],
   "source": []
  }
 ],
 "metadata": {
  "kernelspec": {
   "display_name": "Python 3 (ipykernel)",
   "language": "python",
   "name": "python3"
  },
  "language_info": {
   "codemirror_mode": {
    "name": "ipython",
    "version": 3
   },
   "file_extension": ".py",
   "mimetype": "text/x-python",
   "name": "python",
   "nbconvert_exporter": "python",
   "pygments_lexer": "ipython3",
   "version": "3.9.12"
  }
 },
 "nbformat": 4,
 "nbformat_minor": 5
}
